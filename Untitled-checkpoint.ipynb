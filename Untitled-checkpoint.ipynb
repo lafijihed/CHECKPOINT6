{
 "cells": [
  {
   "cell_type": "code",
   "execution_count": 1,
   "id": "1fc585fe",
   "metadata": {},
   "outputs": [
    {
     "name": "stdout",
     "output_type": "stream",
     "text": [
      "[0 1 2]\n",
      "[2 1 0]\n",
      "\n",
      "Covariance matrix of the said arrays:\n",
      " [[ 1. -1.]\n",
      " [-1.  1.]]\n"
     ]
    }
   ],
   "source": [
    "import numpy as np \n",
    "  \n",
    "  \n",
    "array1 = np.array([0, 1, 2]) \n",
    "array2 = np.array([2, 1, 0]) \n",
    "  \n",
    "print(array1) \n",
    "  \n",
    "print(array2) \n",
    "  \n",
    "print(\"\\nCovariance matrix of the said arrays:\\n\", \n",
    "      np.cov(array1, array2)) "
   ]
  },
  {
   "cell_type": "code",
   "execution_count": null,
   "id": "d15ead27",
   "metadata": {},
   "outputs": [],
   "source": []
  }
 ],
 "metadata": {
  "kernelspec": {
   "display_name": "Python 3 (ipykernel)",
   "language": "python",
   "name": "python3"
  },
  "language_info": {
   "codemirror_mode": {
    "name": "ipython",
    "version": 3
   },
   "file_extension": ".py",
   "mimetype": "text/x-python",
   "name": "python",
   "nbconvert_exporter": "python",
   "pygments_lexer": "ipython3",
   "version": "3.9.7"
  }
 },
 "nbformat": 4,
 "nbformat_minor": 5
}
